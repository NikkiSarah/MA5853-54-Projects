{
 "cells": [
  {
   "cell_type": "code",
   "execution_count": 2,
   "metadata": {},
   "outputs": [],
   "source": [
    "#Import Libraries\n",
    "from bs4 import BeautifulSoup\n",
    "import re\n",
    "import pandas as pd\n",
    "\n",
    "\n"
   ]
  },
  {
   "cell_type": "code",
   "execution_count": 3,
   "metadata": {},
   "outputs": [],
   "source": [
    "# Get_page_reviews function scrapes all reviews, titles, and scores\n",
    "# and returns a data frame containing the results across 3 columns\n",
    "\n",
    "def get_page_reviews(soup, start_id):\n",
    "    # Initialise dataframe\n",
    "    review_df = pd.DataFrame(columns = [\"review_id\", \"title\",\"review\",\"score\"])\n",
    "    \n",
    "    # Return all review sections\n",
    "    reviews = soup.find_all(\"div\", {\"class\": \"mb-0_wJE overflow-hidden_1pr card_12c card-full_1bA card-full-md_1Kd\"})\n",
    "    \n",
    "    review_id = start_id + 1\n",
    "    \n",
    "    # Scrape relevant data for each review\n",
    "    for review in reviews:\n",
    "        score = review.find_all(\"div\", {\"class\":  re.compile('me-1_2lk flex-shrink-0_2yX.*')})\n",
    "        score = re.search('title=\"(\\d)\\sout\\sof',str(score)).group(1)\n",
    "\n",
    "        title = review.find_all(\"h3\", {\"class\":  \"mb-1_2Ff\"})\n",
    "        title = re.search('>(.+?)<',str(title)).group(1)\n",
    "\n",
    "        reviews = review.find_all(\"div\", {\"class\":  \"relative_1Fn text-break_iZk\"})\n",
    "        for review_segment in reviews:\n",
    "            review_start = review_segment.find('p')\n",
    "            review_end = review_segment.find(\"span\", {\"class\":  \"d-none_21M\"})\n",
    "\n",
    "            if review_end is not None:\n",
    "                review_complete = re.sub(\"\\.\\.\\.$\", \"\", review_start.text) + re.sub(\"^\\.\\.\\.\", \"\", review_end.text)\n",
    "            else:\n",
    "                review_complete = review_start.text\n",
    "\n",
    "            review_df = review_df.append(pd.DataFrame([[review_id, title, review_complete, score]], columns = [\"review_id\", \"title\",\"review\",\"score\"]))\n",
    "            review_id += 1\n",
    "    return review_df, review_id\n",
    "\n",
    "    "
   ]
  },
  {
   "cell_type": "code",
   "execution_count": 4,
   "metadata": {},
   "outputs": [],
   "source": [
    "# Create empty dataframe for vodafone reviews\n",
    "vodafone_reviews = pd.DataFrame(columns = [\"review_id\", \"title\",\"review\",\"score\"])\n",
    "\n",
    "#vodafone_reviews = pd.read_csv('vodafone_reviews.csv')  "
   ]
  },
  {
   "cell_type": "code",
   "execution_count": 5,
   "metadata": {},
   "outputs": [],
   "source": [
    "from os import listdir\n",
    "from os.path import isfile, join\n",
    "\n",
    "data_path = 'C:\\\\Users\\\\matth\\\\Documents\\\\Uni Work\\\\Data Science Project 1\\\\VF Reviews'\n",
    "\n",
    "file_list = [f for f in listdir(data_path) if isfile(join(data_path, f))]\n",
    "\n",
    "#print(file_list)"
   ]
  },
  {
   "cell_type": "code",
   "execution_count": 6,
   "metadata": {
    "scrolled": true
   },
   "outputs": [
    {
     "name": "stdout",
     "output_type": "stream",
     "text": [
      "C:\\Users\\matth\\Documents\\Uni Work\\Data Science Project 1\\VF Reviews\\Vodafone (page 10) _ ProductReview.com.au.html\n",
      "C:\\Users\\matth\\Documents\\Uni Work\\Data Science Project 1\\VF Reviews\\Vodafone (page 100) _ ProductReview.com.au.html\n",
      "C:\\Users\\matth\\Documents\\Uni Work\\Data Science Project 1\\VF Reviews\\Vodafone (page 101) _ ProductReview.com.au.html\n",
      "C:\\Users\\matth\\Documents\\Uni Work\\Data Science Project 1\\VF Reviews\\Vodafone (page 102) _ ProductReview.com.au.html\n",
      "C:\\Users\\matth\\Documents\\Uni Work\\Data Science Project 1\\VF Reviews\\Vodafone (page 103) _ ProductReview.com.au.html\n",
      "C:\\Users\\matth\\Documents\\Uni Work\\Data Science Project 1\\VF Reviews\\Vodafone (page 104) _ ProductReview.com.au.html\n",
      "C:\\Users\\matth\\Documents\\Uni Work\\Data Science Project 1\\VF Reviews\\Vodafone (page 105) _ ProductReview.com.au.html\n",
      "C:\\Users\\matth\\Documents\\Uni Work\\Data Science Project 1\\VF Reviews\\Vodafone (page 106) _ ProductReview.com.au.html\n",
      "C:\\Users\\matth\\Documents\\Uni Work\\Data Science Project 1\\VF Reviews\\Vodafone (page 107) _ ProductReview.com.au.html\n",
      "C:\\Users\\matth\\Documents\\Uni Work\\Data Science Project 1\\VF Reviews\\Vodafone (page 108) _ ProductReview.com.au.html\n",
      "C:\\Users\\matth\\Documents\\Uni Work\\Data Science Project 1\\VF Reviews\\Vodafone (page 109) _ ProductReview.com.au.html\n",
      "an error occured with file: C:\\Users\\matth\\Documents\\Uni Work\\Data Science Project 1\\VF Reviews\\Vodafone (page 109) _ ProductReview.com.au.html\n",
      "C:\\Users\\matth\\Documents\\Uni Work\\Data Science Project 1\\VF Reviews\\Vodafone (page 11) _ ProductReview.com.au.html\n",
      "C:\\Users\\matth\\Documents\\Uni Work\\Data Science Project 1\\VF Reviews\\Vodafone (page 110) _ ProductReview.com.au.html\n",
      "C:\\Users\\matth\\Documents\\Uni Work\\Data Science Project 1\\VF Reviews\\Vodafone (page 111) _ ProductReview.com.au.html\n",
      "C:\\Users\\matth\\Documents\\Uni Work\\Data Science Project 1\\VF Reviews\\Vodafone (page 112) _ ProductReview.com.au.html\n",
      "C:\\Users\\matth\\Documents\\Uni Work\\Data Science Project 1\\VF Reviews\\Vodafone (page 113) _ ProductReview.com.au.html\n",
      "an error occured with file: C:\\Users\\matth\\Documents\\Uni Work\\Data Science Project 1\\VF Reviews\\Vodafone (page 113) _ ProductReview.com.au.html\n",
      "C:\\Users\\matth\\Documents\\Uni Work\\Data Science Project 1\\VF Reviews\\Vodafone (page 114) _ ProductReview.com.au.html\n",
      "C:\\Users\\matth\\Documents\\Uni Work\\Data Science Project 1\\VF Reviews\\Vodafone (page 115) _ ProductReview.com.au.html\n",
      "C:\\Users\\matth\\Documents\\Uni Work\\Data Science Project 1\\VF Reviews\\Vodafone (page 116) _ ProductReview.com.au.html\n",
      "C:\\Users\\matth\\Documents\\Uni Work\\Data Science Project 1\\VF Reviews\\Vodafone (page 117) _ ProductReview.com.au.html\n",
      "C:\\Users\\matth\\Documents\\Uni Work\\Data Science Project 1\\VF Reviews\\Vodafone (page 118) _ ProductReview.com.au.html\n",
      "C:\\Users\\matth\\Documents\\Uni Work\\Data Science Project 1\\VF Reviews\\Vodafone (page 119) _ ProductReview.com.au.html\n",
      "C:\\Users\\matth\\Documents\\Uni Work\\Data Science Project 1\\VF Reviews\\Vodafone (page 12) _ ProductReview.com.au.html\n",
      "C:\\Users\\matth\\Documents\\Uni Work\\Data Science Project 1\\VF Reviews\\Vodafone (page 120) _ ProductReview.com.au.html\n",
      "C:\\Users\\matth\\Documents\\Uni Work\\Data Science Project 1\\VF Reviews\\Vodafone (page 121) _ ProductReview.com.au.html\n",
      "C:\\Users\\matth\\Documents\\Uni Work\\Data Science Project 1\\VF Reviews\\Vodafone (page 122) _ ProductReview.com.au.html\n",
      "C:\\Users\\matth\\Documents\\Uni Work\\Data Science Project 1\\VF Reviews\\Vodafone (page 123) _ ProductReview.com.au.html\n",
      "C:\\Users\\matth\\Documents\\Uni Work\\Data Science Project 1\\VF Reviews\\Vodafone (page 124) _ ProductReview.com.au.html\n",
      "C:\\Users\\matth\\Documents\\Uni Work\\Data Science Project 1\\VF Reviews\\Vodafone (page 125) _ ProductReview.com.au.html\n",
      "an error occured with file: C:\\Users\\matth\\Documents\\Uni Work\\Data Science Project 1\\VF Reviews\\Vodafone (page 125) _ ProductReview.com.au.html\n",
      "C:\\Users\\matth\\Documents\\Uni Work\\Data Science Project 1\\VF Reviews\\Vodafone (page 126) _ ProductReview.com.au.html\n",
      "C:\\Users\\matth\\Documents\\Uni Work\\Data Science Project 1\\VF Reviews\\Vodafone (page 127) _ ProductReview.com.au.html\n",
      "C:\\Users\\matth\\Documents\\Uni Work\\Data Science Project 1\\VF Reviews\\Vodafone (page 128) _ ProductReview.com.au.html\n",
      "C:\\Users\\matth\\Documents\\Uni Work\\Data Science Project 1\\VF Reviews\\Vodafone (page 129) _ ProductReview.com.au.html\n",
      "C:\\Users\\matth\\Documents\\Uni Work\\Data Science Project 1\\VF Reviews\\Vodafone (page 13) _ ProductReview.com.au.html\n",
      "an error occured with file: C:\\Users\\matth\\Documents\\Uni Work\\Data Science Project 1\\VF Reviews\\Vodafone (page 13) _ ProductReview.com.au.html\n",
      "C:\\Users\\matth\\Documents\\Uni Work\\Data Science Project 1\\VF Reviews\\Vodafone (page 130) _ ProductReview.com.au.html\n",
      "C:\\Users\\matth\\Documents\\Uni Work\\Data Science Project 1\\VF Reviews\\Vodafone (page 131) _ ProductReview.com.au.html\n",
      "C:\\Users\\matth\\Documents\\Uni Work\\Data Science Project 1\\VF Reviews\\Vodafone (page 132) _ ProductReview.com.au.html\n",
      "C:\\Users\\matth\\Documents\\Uni Work\\Data Science Project 1\\VF Reviews\\Vodafone (page 134) _ ProductReview.com.au.html\n",
      "C:\\Users\\matth\\Documents\\Uni Work\\Data Science Project 1\\VF Reviews\\Vodafone (page 135) _ ProductReview.com.au.html\n",
      "C:\\Users\\matth\\Documents\\Uni Work\\Data Science Project 1\\VF Reviews\\Vodafone (page 136) _ ProductReview.com.au.html\n",
      "C:\\Users\\matth\\Documents\\Uni Work\\Data Science Project 1\\VF Reviews\\Vodafone (page 137) _ ProductReview.com.au.html\n",
      "C:\\Users\\matth\\Documents\\Uni Work\\Data Science Project 1\\VF Reviews\\Vodafone (page 138) _ ProductReview.com.au.html\n",
      "C:\\Users\\matth\\Documents\\Uni Work\\Data Science Project 1\\VF Reviews\\Vodafone (page 139) _ ProductReview.com.au.html\n",
      "C:\\Users\\matth\\Documents\\Uni Work\\Data Science Project 1\\VF Reviews\\Vodafone (page 14) _ ProductReview.com.au.html\n",
      "C:\\Users\\matth\\Documents\\Uni Work\\Data Science Project 1\\VF Reviews\\Vodafone (page 140) _ ProductReview.com.au.html\n",
      "C:\\Users\\matth\\Documents\\Uni Work\\Data Science Project 1\\VF Reviews\\Vodafone (page 141) _ ProductReview.com.au.html\n",
      "C:\\Users\\matth\\Documents\\Uni Work\\Data Science Project 1\\VF Reviews\\Vodafone (page 142) _ ProductReview.com.au.html\n",
      "an error occured with file: C:\\Users\\matth\\Documents\\Uni Work\\Data Science Project 1\\VF Reviews\\Vodafone (page 142) _ ProductReview.com.au.html\n",
      "C:\\Users\\matth\\Documents\\Uni Work\\Data Science Project 1\\VF Reviews\\Vodafone (page 143) _ ProductReview.com.au.html\n",
      "C:\\Users\\matth\\Documents\\Uni Work\\Data Science Project 1\\VF Reviews\\Vodafone (page 144) _ ProductReview.com.au.html\n",
      "C:\\Users\\matth\\Documents\\Uni Work\\Data Science Project 1\\VF Reviews\\Vodafone (page 145) _ ProductReview.com.au.html\n",
      "C:\\Users\\matth\\Documents\\Uni Work\\Data Science Project 1\\VF Reviews\\Vodafone (page 146) _ ProductReview.com.au.html\n",
      "C:\\Users\\matth\\Documents\\Uni Work\\Data Science Project 1\\VF Reviews\\Vodafone (page 147) _ ProductReview.com.au.html\n",
      "C:\\Users\\matth\\Documents\\Uni Work\\Data Science Project 1\\VF Reviews\\Vodafone (page 148) _ ProductReview.com.au.html\n",
      "C:\\Users\\matth\\Documents\\Uni Work\\Data Science Project 1\\VF Reviews\\Vodafone (page 149) _ ProductReview.com.au.html\n",
      "C:\\Users\\matth\\Documents\\Uni Work\\Data Science Project 1\\VF Reviews\\Vodafone (page 15) _ ProductReview.com.au.html\n",
      "C:\\Users\\matth\\Documents\\Uni Work\\Data Science Project 1\\VF Reviews\\Vodafone (page 150) _ ProductReview.com.au.html\n",
      "C:\\Users\\matth\\Documents\\Uni Work\\Data Science Project 1\\VF Reviews\\Vodafone (page 151) _ ProductReview.com.au.html\n",
      "C:\\Users\\matth\\Documents\\Uni Work\\Data Science Project 1\\VF Reviews\\Vodafone (page 152) _ ProductReview.com.au.html\n",
      "C:\\Users\\matth\\Documents\\Uni Work\\Data Science Project 1\\VF Reviews\\Vodafone (page 153) _ ProductReview.com.au.html\n",
      "C:\\Users\\matth\\Documents\\Uni Work\\Data Science Project 1\\VF Reviews\\Vodafone (page 154) _ ProductReview.com.au.html\n",
      "an error occured with file: C:\\Users\\matth\\Documents\\Uni Work\\Data Science Project 1\\VF Reviews\\Vodafone (page 154) _ ProductReview.com.au.html\n",
      "C:\\Users\\matth\\Documents\\Uni Work\\Data Science Project 1\\VF Reviews\\Vodafone (page 155) _ ProductReview.com.au.html\n",
      "C:\\Users\\matth\\Documents\\Uni Work\\Data Science Project 1\\VF Reviews\\Vodafone (page 156) _ ProductReview.com.au.html\n",
      "C:\\Users\\matth\\Documents\\Uni Work\\Data Science Project 1\\VF Reviews\\Vodafone (page 157) _ ProductReview.com.au.html\n",
      "C:\\Users\\matth\\Documents\\Uni Work\\Data Science Project 1\\VF Reviews\\Vodafone (page 158) _ ProductReview.com.au.html\n",
      "C:\\Users\\matth\\Documents\\Uni Work\\Data Science Project 1\\VF Reviews\\Vodafone (page 159) _ ProductReview.com.au.html\n"
     ]
    },
    {
     "name": "stdout",
     "output_type": "stream",
     "text": [
      "C:\\Users\\matth\\Documents\\Uni Work\\Data Science Project 1\\VF Reviews\\Vodafone (page 16) _ ProductReview.com.au.html\n",
      "C:\\Users\\matth\\Documents\\Uni Work\\Data Science Project 1\\VF Reviews\\Vodafone (page 17) _ ProductReview.com.au.html\n",
      "C:\\Users\\matth\\Documents\\Uni Work\\Data Science Project 1\\VF Reviews\\Vodafone (page 18) _ ProductReview.com.au.html\n",
      "an error occured with file: C:\\Users\\matth\\Documents\\Uni Work\\Data Science Project 1\\VF Reviews\\Vodafone (page 18) _ ProductReview.com.au.html\n",
      "C:\\Users\\matth\\Documents\\Uni Work\\Data Science Project 1\\VF Reviews\\Vodafone (page 19) _ ProductReview.com.au.html\n",
      "C:\\Users\\matth\\Documents\\Uni Work\\Data Science Project 1\\VF Reviews\\Vodafone (page 2) _ ProductReview.com.au.html\n",
      "an error occured with file: C:\\Users\\matth\\Documents\\Uni Work\\Data Science Project 1\\VF Reviews\\Vodafone (page 2) _ ProductReview.com.au.html\n",
      "C:\\Users\\matth\\Documents\\Uni Work\\Data Science Project 1\\VF Reviews\\Vodafone (page 20) _ ProductReview.com.au.html\n",
      "C:\\Users\\matth\\Documents\\Uni Work\\Data Science Project 1\\VF Reviews\\Vodafone (page 21) _ ProductReview.com.au.html\n",
      "C:\\Users\\matth\\Documents\\Uni Work\\Data Science Project 1\\VF Reviews\\Vodafone (page 22) _ ProductReview.com.au.html\n",
      "C:\\Users\\matth\\Documents\\Uni Work\\Data Science Project 1\\VF Reviews\\Vodafone (page 23) _ ProductReview.com.au.html\n",
      "C:\\Users\\matth\\Documents\\Uni Work\\Data Science Project 1\\VF Reviews\\Vodafone (page 24) _ ProductReview.com.au.html\n",
      "C:\\Users\\matth\\Documents\\Uni Work\\Data Science Project 1\\VF Reviews\\Vodafone (page 25) _ ProductReview.com.au.html\n",
      "C:\\Users\\matth\\Documents\\Uni Work\\Data Science Project 1\\VF Reviews\\Vodafone (page 26) _ ProductReview.com.au.html\n",
      "C:\\Users\\matth\\Documents\\Uni Work\\Data Science Project 1\\VF Reviews\\Vodafone (page 27) _ ProductReview.com.au.html\n",
      "C:\\Users\\matth\\Documents\\Uni Work\\Data Science Project 1\\VF Reviews\\Vodafone (page 28) _ ProductReview.com.au.html\n",
      "an error occured with file: C:\\Users\\matth\\Documents\\Uni Work\\Data Science Project 1\\VF Reviews\\Vodafone (page 28) _ ProductReview.com.au.html\n",
      "C:\\Users\\matth\\Documents\\Uni Work\\Data Science Project 1\\VF Reviews\\Vodafone (page 29) _ ProductReview.com.au.html\n",
      "C:\\Users\\matth\\Documents\\Uni Work\\Data Science Project 1\\VF Reviews\\Vodafone (page 3) _ ProductReview.com.au.html\n",
      "an error occured with file: C:\\Users\\matth\\Documents\\Uni Work\\Data Science Project 1\\VF Reviews\\Vodafone (page 3) _ ProductReview.com.au.html\n",
      "C:\\Users\\matth\\Documents\\Uni Work\\Data Science Project 1\\VF Reviews\\Vodafone (page 30) _ ProductReview.com.au.html\n",
      "an error occured with file: C:\\Users\\matth\\Documents\\Uni Work\\Data Science Project 1\\VF Reviews\\Vodafone (page 30) _ ProductReview.com.au.html\n",
      "C:\\Users\\matth\\Documents\\Uni Work\\Data Science Project 1\\VF Reviews\\Vodafone (page 31) _ ProductReview.com.au.html\n",
      "C:\\Users\\matth\\Documents\\Uni Work\\Data Science Project 1\\VF Reviews\\Vodafone (page 33) _ ProductReview.com.au.html\n",
      "C:\\Users\\matth\\Documents\\Uni Work\\Data Science Project 1\\VF Reviews\\Vodafone (page 34) _ ProductReview.com.au.html\n",
      "C:\\Users\\matth\\Documents\\Uni Work\\Data Science Project 1\\VF Reviews\\Vodafone (page 35) _ ProductReview.com.au.html\n",
      "C:\\Users\\matth\\Documents\\Uni Work\\Data Science Project 1\\VF Reviews\\Vodafone (page 36) _ ProductReview.com.au.html\n",
      "C:\\Users\\matth\\Documents\\Uni Work\\Data Science Project 1\\VF Reviews\\Vodafone (page 37) _ ProductReview.com.au.html\n",
      "C:\\Users\\matth\\Documents\\Uni Work\\Data Science Project 1\\VF Reviews\\Vodafone (page 38) _ ProductReview.com.au.html\n",
      "an error occured with file: C:\\Users\\matth\\Documents\\Uni Work\\Data Science Project 1\\VF Reviews\\Vodafone (page 38) _ ProductReview.com.au.html\n",
      "C:\\Users\\matth\\Documents\\Uni Work\\Data Science Project 1\\VF Reviews\\Vodafone (page 39) _ ProductReview.com.au.html\n",
      "C:\\Users\\matth\\Documents\\Uni Work\\Data Science Project 1\\VF Reviews\\Vodafone (page 4) _ ProductReview.com.au.html\n",
      "an error occured with file: C:\\Users\\matth\\Documents\\Uni Work\\Data Science Project 1\\VF Reviews\\Vodafone (page 4) _ ProductReview.com.au.html\n",
      "C:\\Users\\matth\\Documents\\Uni Work\\Data Science Project 1\\VF Reviews\\Vodafone (page 41) _ ProductReview.com.au.html\n",
      "C:\\Users\\matth\\Documents\\Uni Work\\Data Science Project 1\\VF Reviews\\Vodafone (page 42) _ ProductReview.com.au.html\n",
      "an error occured with file: C:\\Users\\matth\\Documents\\Uni Work\\Data Science Project 1\\VF Reviews\\Vodafone (page 42) _ ProductReview.com.au.html\n",
      "C:\\Users\\matth\\Documents\\Uni Work\\Data Science Project 1\\VF Reviews\\Vodafone (page 43) _ ProductReview.com.au.html\n",
      "an error occured with file: C:\\Users\\matth\\Documents\\Uni Work\\Data Science Project 1\\VF Reviews\\Vodafone (page 43) _ ProductReview.com.au.html\n",
      "C:\\Users\\matth\\Documents\\Uni Work\\Data Science Project 1\\VF Reviews\\Vodafone (page 44) _ ProductReview.com.au.html\n",
      "C:\\Users\\matth\\Documents\\Uni Work\\Data Science Project 1\\VF Reviews\\Vodafone (page 45) _ ProductReview.com.au.html\n",
      "C:\\Users\\matth\\Documents\\Uni Work\\Data Science Project 1\\VF Reviews\\Vodafone (page 46) _ ProductReview.com.au.html\n",
      "an error occured with file: C:\\Users\\matth\\Documents\\Uni Work\\Data Science Project 1\\VF Reviews\\Vodafone (page 46) _ ProductReview.com.au.html\n",
      "C:\\Users\\matth\\Documents\\Uni Work\\Data Science Project 1\\VF Reviews\\Vodafone (page 47) _ ProductReview.com.au.html\n",
      "C:\\Users\\matth\\Documents\\Uni Work\\Data Science Project 1\\VF Reviews\\Vodafone (page 48) _ ProductReview.com.au.html\n",
      "an error occured with file: C:\\Users\\matth\\Documents\\Uni Work\\Data Science Project 1\\VF Reviews\\Vodafone (page 48) _ ProductReview.com.au.html\n",
      "C:\\Users\\matth\\Documents\\Uni Work\\Data Science Project 1\\VF Reviews\\Vodafone (page 49) _ ProductReview.com.au.html\n",
      "an error occured with file: C:\\Users\\matth\\Documents\\Uni Work\\Data Science Project 1\\VF Reviews\\Vodafone (page 49) _ ProductReview.com.au.html\n",
      "C:\\Users\\matth\\Documents\\Uni Work\\Data Science Project 1\\VF Reviews\\Vodafone (page 5) _ ProductReview.com.au.html\n",
      "C:\\Users\\matth\\Documents\\Uni Work\\Data Science Project 1\\VF Reviews\\Vodafone (page 50) _ ProductReview.com.au.html\n",
      "C:\\Users\\matth\\Documents\\Uni Work\\Data Science Project 1\\VF Reviews\\Vodafone (page 51) _ ProductReview.com.au.html\n",
      "an error occured with file: C:\\Users\\matth\\Documents\\Uni Work\\Data Science Project 1\\VF Reviews\\Vodafone (page 51) _ ProductReview.com.au.html\n",
      "C:\\Users\\matth\\Documents\\Uni Work\\Data Science Project 1\\VF Reviews\\Vodafone (page 52) _ ProductReview.com.au.html\n",
      "an error occured with file: C:\\Users\\matth\\Documents\\Uni Work\\Data Science Project 1\\VF Reviews\\Vodafone (page 52) _ ProductReview.com.au.html\n",
      "C:\\Users\\matth\\Documents\\Uni Work\\Data Science Project 1\\VF Reviews\\Vodafone (page 53) _ ProductReview.com.au.html\n",
      "C:\\Users\\matth\\Documents\\Uni Work\\Data Science Project 1\\VF Reviews\\Vodafone (page 54) _ ProductReview.com.au.html\n",
      "C:\\Users\\matth\\Documents\\Uni Work\\Data Science Project 1\\VF Reviews\\Vodafone (page 55) _ ProductReview.com.au.html\n",
      "C:\\Users\\matth\\Documents\\Uni Work\\Data Science Project 1\\VF Reviews\\Vodafone (page 56) _ ProductReview.com.au.html\n",
      "C:\\Users\\matth\\Documents\\Uni Work\\Data Science Project 1\\VF Reviews\\Vodafone (page 57) _ ProductReview.com.au.html\n",
      "an error occured with file: C:\\Users\\matth\\Documents\\Uni Work\\Data Science Project 1\\VF Reviews\\Vodafone (page 57) _ ProductReview.com.au.html\n",
      "C:\\Users\\matth\\Documents\\Uni Work\\Data Science Project 1\\VF Reviews\\Vodafone (page 58) _ ProductReview.com.au.html\n",
      "C:\\Users\\matth\\Documents\\Uni Work\\Data Science Project 1\\VF Reviews\\Vodafone (page 59) _ ProductReview.com.au.html\n",
      "C:\\Users\\matth\\Documents\\Uni Work\\Data Science Project 1\\VF Reviews\\Vodafone (page 6) _ ProductReview.com.au.html\n",
      "an error occured with file: C:\\Users\\matth\\Documents\\Uni Work\\Data Science Project 1\\VF Reviews\\Vodafone (page 6) _ ProductReview.com.au.html\n",
      "C:\\Users\\matth\\Documents\\Uni Work\\Data Science Project 1\\VF Reviews\\Vodafone (page 60) _ ProductReview.com.au.html\n",
      "C:\\Users\\matth\\Documents\\Uni Work\\Data Science Project 1\\VF Reviews\\Vodafone (page 61) _ ProductReview.com.au.html\n",
      "C:\\Users\\matth\\Documents\\Uni Work\\Data Science Project 1\\VF Reviews\\Vodafone (page 62) _ ProductReview.com.au.html\n",
      "an error occured with file: C:\\Users\\matth\\Documents\\Uni Work\\Data Science Project 1\\VF Reviews\\Vodafone (page 62) _ ProductReview.com.au.html\n",
      "C:\\Users\\matth\\Documents\\Uni Work\\Data Science Project 1\\VF Reviews\\Vodafone (page 63) _ ProductReview.com.au.html\n",
      "C:\\Users\\matth\\Documents\\Uni Work\\Data Science Project 1\\VF Reviews\\Vodafone (page 64) _ ProductReview.com.au.html\n",
      "an error occured with file: C:\\Users\\matth\\Documents\\Uni Work\\Data Science Project 1\\VF Reviews\\Vodafone (page 64) _ ProductReview.com.au.html\n",
      "C:\\Users\\matth\\Documents\\Uni Work\\Data Science Project 1\\VF Reviews\\Vodafone (page 65) _ ProductReview.com.au.html\n",
      "C:\\Users\\matth\\Documents\\Uni Work\\Data Science Project 1\\VF Reviews\\Vodafone (page 66) _ ProductReview.com.au.html\n"
     ]
    },
    {
     "name": "stdout",
     "output_type": "stream",
     "text": [
      "C:\\Users\\matth\\Documents\\Uni Work\\Data Science Project 1\\VF Reviews\\Vodafone (page 67) _ ProductReview.com.au.html\n",
      "C:\\Users\\matth\\Documents\\Uni Work\\Data Science Project 1\\VF Reviews\\Vodafone (page 68) _ ProductReview.com.au.html\n",
      "C:\\Users\\matth\\Documents\\Uni Work\\Data Science Project 1\\VF Reviews\\Vodafone (page 69) _ ProductReview.com.au.html\n",
      "C:\\Users\\matth\\Documents\\Uni Work\\Data Science Project 1\\VF Reviews\\Vodafone (page 7) _ ProductReview.com.au.html\n",
      "C:\\Users\\matth\\Documents\\Uni Work\\Data Science Project 1\\VF Reviews\\Vodafone (page 70) _ ProductReview.com.au.html\n",
      "an error occured with file: C:\\Users\\matth\\Documents\\Uni Work\\Data Science Project 1\\VF Reviews\\Vodafone (page 70) _ ProductReview.com.au.html\n",
      "C:\\Users\\matth\\Documents\\Uni Work\\Data Science Project 1\\VF Reviews\\Vodafone (page 71) _ ProductReview.com.au.html\n",
      "C:\\Users\\matth\\Documents\\Uni Work\\Data Science Project 1\\VF Reviews\\Vodafone (page 72) _ ProductReview.com.au.html\n",
      "C:\\Users\\matth\\Documents\\Uni Work\\Data Science Project 1\\VF Reviews\\Vodafone (page 73) _ ProductReview.com.au.html\n",
      "an error occured with file: C:\\Users\\matth\\Documents\\Uni Work\\Data Science Project 1\\VF Reviews\\Vodafone (page 73) _ ProductReview.com.au.html\n",
      "C:\\Users\\matth\\Documents\\Uni Work\\Data Science Project 1\\VF Reviews\\Vodafone (page 74) _ ProductReview.com.au.html\n",
      "C:\\Users\\matth\\Documents\\Uni Work\\Data Science Project 1\\VF Reviews\\Vodafone (page 75) _ ProductReview.com.au.html\n",
      "C:\\Users\\matth\\Documents\\Uni Work\\Data Science Project 1\\VF Reviews\\Vodafone (page 76) _ ProductReview.com.au.html\n",
      "C:\\Users\\matth\\Documents\\Uni Work\\Data Science Project 1\\VF Reviews\\Vodafone (page 77) _ ProductReview.com.au.html\n",
      "an error occured with file: C:\\Users\\matth\\Documents\\Uni Work\\Data Science Project 1\\VF Reviews\\Vodafone (page 77) _ ProductReview.com.au.html\n",
      "C:\\Users\\matth\\Documents\\Uni Work\\Data Science Project 1\\VF Reviews\\Vodafone (page 78) _ ProductReview.com.au.html\n",
      "C:\\Users\\matth\\Documents\\Uni Work\\Data Science Project 1\\VF Reviews\\Vodafone (page 79) _ ProductReview.com.au.html\n",
      "C:\\Users\\matth\\Documents\\Uni Work\\Data Science Project 1\\VF Reviews\\Vodafone (page 8) _ ProductReview.com.au.html\n",
      "C:\\Users\\matth\\Documents\\Uni Work\\Data Science Project 1\\VF Reviews\\Vodafone (page 80) _ ProductReview.com.au.html\n",
      "an error occured with file: C:\\Users\\matth\\Documents\\Uni Work\\Data Science Project 1\\VF Reviews\\Vodafone (page 80) _ ProductReview.com.au.html\n",
      "C:\\Users\\matth\\Documents\\Uni Work\\Data Science Project 1\\VF Reviews\\Vodafone (page 81) _ ProductReview.com.au.html\n",
      "C:\\Users\\matth\\Documents\\Uni Work\\Data Science Project 1\\VF Reviews\\Vodafone (page 82) _ ProductReview.com.au.html\n",
      "an error occured with file: C:\\Users\\matth\\Documents\\Uni Work\\Data Science Project 1\\VF Reviews\\Vodafone (page 82) _ ProductReview.com.au.html\n",
      "C:\\Users\\matth\\Documents\\Uni Work\\Data Science Project 1\\VF Reviews\\Vodafone (page 83) _ ProductReview.com.au.html\n",
      "C:\\Users\\matth\\Documents\\Uni Work\\Data Science Project 1\\VF Reviews\\Vodafone (page 84) _ ProductReview.com.au.html\n",
      "C:\\Users\\matth\\Documents\\Uni Work\\Data Science Project 1\\VF Reviews\\Vodafone (page 85) _ ProductReview.com.au.html\n",
      "C:\\Users\\matth\\Documents\\Uni Work\\Data Science Project 1\\VF Reviews\\Vodafone (page 86) _ ProductReview.com.au.html\n",
      "C:\\Users\\matth\\Documents\\Uni Work\\Data Science Project 1\\VF Reviews\\Vodafone (page 87) _ ProductReview.com.au.html\n",
      "C:\\Users\\matth\\Documents\\Uni Work\\Data Science Project 1\\VF Reviews\\Vodafone (page 88) _ ProductReview.com.au.html\n",
      "C:\\Users\\matth\\Documents\\Uni Work\\Data Science Project 1\\VF Reviews\\Vodafone (page 89) _ ProductReview.com.au.html\n",
      "C:\\Users\\matth\\Documents\\Uni Work\\Data Science Project 1\\VF Reviews\\Vodafone (page 9) _ ProductReview.com.au.html\n",
      "C:\\Users\\matth\\Documents\\Uni Work\\Data Science Project 1\\VF Reviews\\Vodafone (page 90) _ ProductReview.com.au.html\n",
      "C:\\Users\\matth\\Documents\\Uni Work\\Data Science Project 1\\VF Reviews\\Vodafone (page 91) _ ProductReview.com.au.html\n",
      "C:\\Users\\matth\\Documents\\Uni Work\\Data Science Project 1\\VF Reviews\\Vodafone (page 93) _ ProductReview.com.au.html\n",
      "C:\\Users\\matth\\Documents\\Uni Work\\Data Science Project 1\\VF Reviews\\Vodafone (page 94) _ ProductReview.com.au.html\n",
      "C:\\Users\\matth\\Documents\\Uni Work\\Data Science Project 1\\VF Reviews\\Vodafone (page 95) _ ProductReview.com.au.html\n",
      "C:\\Users\\matth\\Documents\\Uni Work\\Data Science Project 1\\VF Reviews\\Vodafone (page 96) _ ProductReview.com.au.html\n",
      "C:\\Users\\matth\\Documents\\Uni Work\\Data Science Project 1\\VF Reviews\\Vodafone (page 97) _ ProductReview.com.au.html\n",
      "C:\\Users\\matth\\Documents\\Uni Work\\Data Science Project 1\\VF Reviews\\Vodafone (page 98) _ ProductReview.com.au.html\n",
      "C:\\Users\\matth\\Documents\\Uni Work\\Data Science Project 1\\VF Reviews\\Vodafone (page 99) _ ProductReview.com.au.html\n",
      "C:\\Users\\matth\\Documents\\Uni Work\\Data Science Project 1\\VF Reviews\\Vodafone _ ProductReview.com.au.html\n",
      "an error occured with file: C:\\Users\\matth\\Documents\\Uni Work\\Data Science Project 1\\VF Reviews\\Vodafone _ ProductReview.com.au.html\n"
     ]
    }
   ],
   "source": [
    "\n",
    "\n",
    "# loop through all vodafone review pages, and add reviews to vodafone_review dataframe\n",
    "\n",
    "# Set review id to 0\n",
    "\n",
    "review_id = 0\n",
    "\n",
    "for file in file_list:\n",
    "\n",
    "    \n",
    "    # load  and parse the next page of reviews\n",
    "    try:\n",
    "        cur_file = open(data_path + \"\\\\\" + file)\n",
    "        print(data_path + \"\\\\\" + file)\n",
    "        page = cur_file.read()\n",
    "        cur_file.close()\n",
    "\n",
    "        # print(page)\n",
    "        soup = BeautifulSoup(page, 'html.parser')\n",
    "\n",
    "        # get reviews on current page\n",
    "        cur_reviews , review_id = get_page_reviews(soup, review_id)\n",
    "        \n",
    "\n",
    "        # Append reviews for current page\n",
    "        vodafone_reviews = vodafone_reviews.append(cur_reviews)\n",
    "    except:\n",
    "        print(\"an error occured with file: \" + data_path + \"\\\\\" + file)\n",
    "\n"
   ]
  },
  {
   "cell_type": "code",
   "execution_count": 7,
   "metadata": {},
   "outputs": [
    {
     "name": "stdout",
     "output_type": "stream",
     "text": [
      "1903\n"
     ]
    }
   ],
   "source": [
    "print(len(vodafone_reviews))"
   ]
  },
  {
   "cell_type": "code",
   "execution_count": 8,
   "metadata": {},
   "outputs": [
    {
     "data": {
      "text/html": [
       "<div>\n",
       "<style scoped>\n",
       "    .dataframe tbody tr th:only-of-type {\n",
       "        vertical-align: middle;\n",
       "    }\n",
       "\n",
       "    .dataframe tbody tr th {\n",
       "        vertical-align: top;\n",
       "    }\n",
       "\n",
       "    .dataframe thead th {\n",
       "        text-align: right;\n",
       "    }\n",
       "</style>\n",
       "<table border=\"1\" class=\"dataframe\">\n",
       "  <thead>\n",
       "    <tr style=\"text-align: right;\">\n",
       "      <th></th>\n",
       "      <th>review_id</th>\n",
       "      <th>title</th>\n",
       "      <th>review</th>\n",
       "      <th>score</th>\n",
       "    </tr>\n",
       "  </thead>\n",
       "  <tbody>\n",
       "    <tr>\n",
       "      <th>0</th>\n",
       "      <td>1</td>\n",
       "      <td>Vodaphone Almost Ruined My Life - Stolen Ident...</td>\n",
       "      <td>My email and password were part of a company d...</td>\n",
       "      <td>1</td>\n",
       "    </tr>\n",
       "    <tr>\n",
       "      <th>0</th>\n",
       "      <td>2</td>\n",
       "      <td>Misguided Sale</td>\n",
       "      <td>Misguided SaleCouple of days ago, I was told t...</td>\n",
       "      <td>1</td>\n",
       "    </tr>\n",
       "    <tr>\n",
       "      <th>0</th>\n",
       "      <td>3</td>\n",
       "      <td>Worst network</td>\n",
       "      <td>Worst network for data in Australia. I used Vo...</td>\n",
       "      <td>1</td>\n",
       "    </tr>\n",
       "    <tr>\n",
       "      <th>0</th>\n",
       "      <td>4</td>\n",
       "      <td>Insurance contract with them is bulshit</td>\n",
       "      <td>They charged me for over a year a plan with in...</td>\n",
       "      <td>1</td>\n",
       "    </tr>\n",
       "    <tr>\n",
       "      <th>0</th>\n",
       "      <td>5</td>\n",
       "      <td>RECORD all your phonecalls with them when you ...</td>\n",
       "      <td>My parents and I have been with Vodafone for a...</td>\n",
       "      <td>1</td>\n",
       "    </tr>\n",
       "    <tr>\n",
       "      <th>...</th>\n",
       "      <td>...</td>\n",
       "      <td>...</td>\n",
       "      <td>...</td>\n",
       "      <td>...</td>\n",
       "    </tr>\n",
       "    <tr>\n",
       "      <th>0</th>\n",
       "      <td>2023</td>\n",
       "      <td>Below average</td>\n",
       "      <td>Vodafone's extremely cheap, now I know why. Te...</td>\n",
       "      <td>2</td>\n",
       "    </tr>\n",
       "    <tr>\n",
       "      <th>0</th>\n",
       "      <td>2024</td>\n",
       "      <td>Poor customer service and tend to charge more ...</td>\n",
       "      <td>I reduced my plan to$22 from $35 thinking it w...</td>\n",
       "      <td>1</td>\n",
       "    </tr>\n",
       "    <tr>\n",
       "      <th>0</th>\n",
       "      <td>2025</td>\n",
       "      <td>INSENSITIVE TO THE CUSTOMER SUFFERINGS</td>\n",
       "      <td>Please never ever make mistake of going with V...</td>\n",
       "      <td>1</td>\n",
       "    </tr>\n",
       "    <tr>\n",
       "      <th>0</th>\n",
       "      <td>2026</td>\n",
       "      <td>Extremely Terrible Customer Service at Westfie...</td>\n",
       "      <td>I had to get my address changed (same as on my...</td>\n",
       "      <td>1</td>\n",
       "    </tr>\n",
       "    <tr>\n",
       "      <th>0</th>\n",
       "      <td>2027</td>\n",
       "      <td>Perfect For Me</td>\n",
       "      <td>I love this phone company been with them for a...</td>\n",
       "      <td>5</td>\n",
       "    </tr>\n",
       "  </tbody>\n",
       "</table>\n",
       "<p>1903 rows × 4 columns</p>\n",
       "</div>"
      ],
      "text/plain": [
       "   review_id                                              title  \\\n",
       "0          1  Vodaphone Almost Ruined My Life - Stolen Ident...   \n",
       "0          2                                     Misguided Sale   \n",
       "0          3                                      Worst network   \n",
       "0          4            Insurance contract with them is bulshit   \n",
       "0          5  RECORD all your phonecalls with them when you ...   \n",
       "..       ...                                                ...   \n",
       "0       2023                                      Below average   \n",
       "0       2024  Poor customer service and tend to charge more ...   \n",
       "0       2025             INSENSITIVE TO THE CUSTOMER SUFFERINGS   \n",
       "0       2026  Extremely Terrible Customer Service at Westfie...   \n",
       "0       2027                                     Perfect For Me   \n",
       "\n",
       "                                               review score  \n",
       "0   My email and password were part of a company d...     1  \n",
       "0   Misguided SaleCouple of days ago, I was told t...     1  \n",
       "0   Worst network for data in Australia. I used Vo...     1  \n",
       "0   They charged me for over a year a plan with in...     1  \n",
       "0   My parents and I have been with Vodafone for a...     1  \n",
       "..                                                ...   ...  \n",
       "0   Vodafone's extremely cheap, now I know why. Te...     2  \n",
       "0   I reduced my plan to$22 from $35 thinking it w...     1  \n",
       "0   Please never ever make mistake of going with V...     1  \n",
       "0   I had to get my address changed (same as on my...     1  \n",
       "0   I love this phone company been with them for a...     5  \n",
       "\n",
       "[1903 rows x 4 columns]"
      ]
     },
     "execution_count": 8,
     "metadata": {},
     "output_type": "execute_result"
    }
   ],
   "source": [
    "vodafone_reviews"
   ]
  },
  {
   "cell_type": "code",
   "execution_count": 9,
   "metadata": {},
   "outputs": [],
   "source": [
    "vodafone_reviews.to_csv ('vodafone_reviews.csv', index = None, header=True)"
   ]
  },
  {
   "cell_type": "code",
   "execution_count": 10,
   "metadata": {
    "scrolled": true
   },
   "outputs": [
    {
     "data": {
      "image/png": "[encoded data removed]",
      "text/plain": [
       "<Figure size 432x288 with 1 Axes>"
      ]
     },
     "metadata": {
      "needs_background": "light"
     },
     "output_type": "display_data"
    }
   ],
   "source": [
    "##########################################\n",
    "##  Some EDA\n",
    "\n",
    "vodafone_reviews['score'] = pd.to_numeric(vodafone_reviews['score'])\n",
    "\n",
    "vodafone_reviews['score'].hist( color='#990000');"
   ]
  },
  {
   "cell_type": "code",
   "execution_count": 11,
   "metadata": {},
   "outputs": [],
   "source": [
    "### Set all text to lower case\n",
    "\n",
    "vodafone_reviews['review'] = vodafone_reviews['review'].str.lower()\n",
    "vodafone_reviews['title'] = vodafone_reviews['title'].str.lower()\n"
   ]
  },
  {
   "cell_type": "code",
   "execution_count": 12,
   "metadata": {},
   "outputs": [
    {
     "data": {
      "image/png": "[encoded data removed]",
      "text/plain": [
       "<Figure size 720x504 with 1 Axes>"
      ]
     },
     "metadata": {
      "needs_background": "light"
     },
     "output_type": "display_data"
    }
   ],
   "source": [
    "def strip_punct(word):\n",
    "    word =  re.sub(\"[,\\.;:\\(\\)\\{\\}\\[\\]!?\\\"\\s\\n]+\", \" \", word)\n",
    "    word =  re.sub(\"\\s+\", \" \", word)\n",
    "    return word\n",
    "\n",
    "def list_of_words(df, column):\n",
    "    word_frame = pd.DataFrame(columns = [\"words\"])\n",
    "    for i in range(len(df)):\n",
    "        words = strip_punct(df[column].iloc[i])\n",
    "        words = words.split(\" \")\n",
    "        word_frame = word_frame.append(pd.DataFrame(words,columns = [\"words\"]))\n",
    "        \n",
    "    return word_frame\n",
    "\n",
    "\n",
    "\n",
    "\n",
    "word_frame = list_of_words(vodafone_reviews, \"title\")\n",
    "\n",
    "word_frame.words[word_frame.words != \"\"].value_counts().head(10).plot(kind='bar',figsize=(10,7), color='#990000');\n"
   ]
  },
  {
   "cell_type": "code",
   "execution_count": 13,
   "metadata": {},
   "outputs": [
    {
     "data": {
      "image/png": "[encoded data removed]",
      "text/plain": [
       "<Figure size 720x504 with 1 Axes>"
      ]
     },
     "metadata": {
      "needs_background": "light"
     },
     "output_type": "display_data"
    }
   ],
   "source": [
    "word_frame.words[word_frame.words != \"\"].value_counts().tail(30).plot(kind='bar',figsize=(10,7), color='#990000');"
   ]
  },
  {
   "cell_type": "code",
   "execution_count": 14,
   "metadata": {},
   "outputs": [
    {
     "data": {
      "image/png": "[encoded data removed]",
      "text/plain": [
       "<Figure size 720x504 with 1 Axes>"
      ]
     },
     "metadata": {
      "needs_background": "light"
     },
     "output_type": "display_data"
    }
   ],
   "source": [
    "word_frame = list_of_words(vodafone_reviews, \"review\")\n",
    "\n",
    "word_frame.words[word_frame.words != \"\"].value_counts().head(10).plot(kind='bar',figsize=(10,7), color='#990000');"
   ]
  },
  {
   "cell_type": "code",
   "execution_count": 15,
   "metadata": {},
   "outputs": [
    {
     "data": {
      "image/png": "[encoded data removed]",
      "text/plain": [
       "<Figure size 720x504 with 1 Axes>"
      ]
     },
     "metadata": {
      "needs_background": "light"
     },
     "output_type": "display_data"
    }
   ],
   "source": [
    "word_frame.words[word_frame.words != \"\"].value_counts().tail(30).plot(kind='bar',figsize=(10,7), color='#990000');"
   ]
  },
  {
   "cell_type": "code",
   "execution_count": null,
   "metadata": {},
   "outputs": [],
   "source": []
  },
  {
   "cell_type": "code",
   "execution_count": null,
   "metadata": {},
   "outputs": [],
   "source": []
  }
 ],
 "metadata": {
  "kernelspec": {
   "display_name": "Python 3",
   "language": "python",
   "name": "python3"
  },
  "language_info": {
   "codemirror_mode": {
    "name": "ipython",
    "version": 3
   },
   "file_extension": ".py",
   "mimetype": "text/x-python",
   "name": "python",
   "nbconvert_exporter": "python",
   "pygments_lexer": "ipython3",
   "version": "3.8.5"
  }
 },
 "nbformat": 4,
 "nbformat_minor": 4
}
