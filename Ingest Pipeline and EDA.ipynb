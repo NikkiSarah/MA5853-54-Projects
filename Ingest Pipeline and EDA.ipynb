{
 "cells": [
  {
   "cell_type": "code",
   "execution_count": 125,
   "metadata": {},
   "outputs": [],
   "source": [
    "#Import Libraries\n",
    "from bs4 import BeautifulSoup\n",
    "import re\n",
    "import pandas as pd\n",
    "from spellchecker import SpellChecker\n",
    "from nltk.sentiment.vader import SentimentIntensityAnalyzer\n",
    "import nltk\n",
    "import matplotlib\n",
    "from textblob import TextBlob\n",
    "\n",
    "\n",
    "# Install new libraries\n",
    "#%pip install pyspellchecker\n",
    "#%pip install TextBlob"
   ]
  },
  {
   "cell_type": "code",
   "execution_count": 126,
   "metadata": {},
   "outputs": [],
   "source": [
    "vodafone_reviews = pd.read_csv('vodafone_reviews.csv')  "
   ]
  },
  {
   "cell_type": "code",
   "execution_count": 127,
   "metadata": {},
   "outputs": [],
   "source": [
    "##############################################################\n",
    "########## Data Cleansing and Normalization pipeline ######### "
   ]
  },
  {
   "cell_type": "code",
   "execution_count": 128,
   "metadata": {},
   "outputs": [],
   "source": [
    "# Set everything to lower case\n",
    "\n",
    "vodafone_reviews['review'] = vodafone_reviews['review'].str.lower()\n",
    "vodafone_reviews['title'] = vodafone_reviews['title'].str.lower()"
   ]
  },
  {
   "cell_type": "code",
   "execution_count": 129,
   "metadata": {},
   "outputs": [
    {
     "name": "stdout",
     "output_type": "stream",
     "text": [
      "{'infurtiating', '10mb', 'datpak', 'exellent', 'vodaphone', 'pocketwifi', 'fremental', 'bulshit', 'vodaphony', '&amp', 'expesnsive', 'armadale', 'coustmer', 'whatdafail', 'vodadfone', 'riiiiiipppp', 'exremely', 'covid', 'voda', '11pm', 'erros', 'westfield', 'zagg', 'unethial', 'vodacrud', 'vodafonetechnical', 'brookside', 'appauling', 'avoidafone', '3k', 'unstatisified', \"vodafone's\", 'custormer', 'vodafoney', 'appaling', 'wouldnâ€™t', 'hopless', 'wose', 'vodaphones', 'canâ€™t', 'html', 'abismal', 'sumeet', '3g', 'dockland', 'watiting', 'thx', 'vodapone', 'mms', 'st', 's', 'yarra', 'cancle', 'telcos', 'cbd', 'hanset', 'expoit', 'unley', '4g', 'zetland', 'afrian', 'kb', 'donâ€™t', 'samsung', 'greensborough', 'recind', 'unsatesfaied', 'exspence', 'renegged', '2nd', 'metcentre', 'postpaid', 'broadmeadows', 'obudsman', 'untrust', 'vodaafone', 'w', 'l', 'redglobal', 'â€¦', 'pm', 'f+ã—ã·==king', 'parramatta', 'onya', 'campare', \"telco's\", 'doesnâ€™t', 'problam', 'vodafone', 'myvodafone', '1gb', 'bourke', 'definiton', '24m', 'itâ€™s', 'overpromise', '27+', '5mb', 't&amp', \"vodaphone's\", 'techncial', '1950s', 'traped', 'vodafhone', 'wrost', 'liers', 'tpg', 'txt', 's3', 'westmead', 'mbps', 'sms', 'c', 'smss', 'nsw', 'vodafail', 'vj4300', '25kms', \"'vodaphone'\", 'vodafoneâ€™s', 'kogan', 'geraldton', 'fraudulents', 'qld', 'vodafones', 'repaire', 'discusting', 'n', 'excellant', 'ipswich', 'htc', 'diputes', 'disapppointment', 'exisiting', 'optus', 'adr', '6year', \"'ok'\", 's7', 'terribl', 'nbn', 'shockin', 'gungahlin', 'experiance', 'vs', 'netowrk', 'rechage', 's9', 'okhay', 'covid19', 'nz', 'caloundra', 'telstra', 'apauling', '306g'}\n"
     ]
    },
    {
     "data": {
      "image/png": "[encoded data removed]",
      "text/plain": [
       "<Figure size 360x216 with 1 Axes>"
      ]
     },
     "metadata": {
      "needs_background": "light"
     },
     "output_type": "display_data"
    }
   ],
   "source": [
    "# Identify unknown words, coloquialisms and unusual punctuation\n",
    "# Unknown words are identified using https://pypi.org/project/pyspellchecker/\n",
    "\n",
    "# get list of words\n",
    "\n",
    "def strip_punct(word):\n",
    "    word =  re.sub(\"[-,\\.;:\\(\\)\\{\\}\\[\\]!?\\\"\\s\\n\\$%_\\/]\", \" \", word)\n",
    "    word =  re.sub(\"\\s+\", \" \", word)\n",
    "    return word\n",
    "\n",
    "def list_of_words(df, column):\n",
    "    word_frame = pd.DataFrame(columns = [\"words\"])\n",
    "    for i in range(len(df)):\n",
    "        words = strip_punct(df[column].iloc[i])\n",
    "        words = words.split(\" \")\n",
    "        word_frame = word_frame.append(pd.DataFrame(words,columns = [\"words\"]))\n",
    "        \n",
    "    return word_frame\n",
    "\n",
    "# Create dataframe containing list of words\n",
    "word_frame = list_of_words(vodafone_reviews, \"title\")\n",
    "\n",
    "# remove empty strings from list\n",
    "word_frame = word_frame[word_frame['words']!=\"\"]\n",
    "\n",
    "# Initialise spellchecker\n",
    "\n",
    "spell = SpellChecker()\n",
    "\n",
    "unknown_words = spell.unknown(word_frame[\"words\"].to_list())\n",
    "\n",
    "unknown_word_counts = word_frame[word_frame['words'].isin(unknown_words)].value_counts()\n",
    "\n",
    "unknown_word_counts.head(30).plot(kind='bar',figsize=(5,3))\n",
    "\n",
    "print(unknown_words)\n"
   ]
  },
  {
   "cell_type": "code",
   "execution_count": 130,
   "metadata": {},
   "outputs": [],
   "source": [
    "# Create spelling and punctuation correction dictionary\n",
    "\n",
    "spelling_dict ={'unsatesfaied' : \"unsatisfied\", \n",
    "                'diputes' : \"disputes\", \n",
    "                'watiting' : \"waiting\",\n",
    "                'avoidafone' : \"vodafone\", \n",
    "                'smss' : \"sms\", \n",
    "                'abismal' : \"abysmal\", \n",
    "                'wose' : \"worse\", \n",
    "                'renegged' :\"reneged\", \n",
    "                'exisiting' : \"existing\",  \n",
    "                'postpaid' : \"post paid\", \n",
    "                'vodafonetechnical' : \"vodafone technical\", \n",
    "                'thx' : \"thanks\", \n",
    "                'unethial' : \"unethical\", \n",
    "                'vodafones' : \"vodafone's\", \n",
    "                'vodaphone' : \"vodafone\", \n",
    "                'custormer' : \"customer\", \n",
    "                \"'ok'\" : \"ok\", \n",
    "                'vodafoneâ€™s' : \"vodafone's\", \n",
    "                'whatdafail' : \"vodafone\", \n",
    "                'excellant' : \"excellent\",\n",
    "                'vodacrud' : \"vodafone\", \n",
    "                'infurtiating' : \"infuriating\", \n",
    "                'wrost' : \"worst\", \n",
    "                'vodaphony' : \"vodafone\", \n",
    "                'exremely' : \"extremely\", \n",
    "                'definiton': \"definition\", \n",
    "                'erros' : \"errors\", \n",
    "                'disapppointment' : \"disappointment\", \n",
    "                'fraudulents' : \"fraudulent\", \n",
    "                'riiiiiipppp' : \"rip\",  \n",
    "                'datpak' : \"data pack\", \n",
    "                'experiance' : \"experience\", \n",
    "                'vodafail' : \"vodafone\", \n",
    "                'unstatisified' : \"unsatisfied\", \n",
    "                'shockin' : \"shocking\", \n",
    "                'expesnsive' : \"expensive\", \n",
    "                'canâ€™t' : \"can't\", \n",
    "                '&amp' : \"&\", \n",
    "                'onya' : \"good on you\", \n",
    "                'liers' : \"liars\", \n",
    "                'discusting' : \"discusting\", \n",
    "                'itâ€™s' : \"it's\", \n",
    "                'pocketwifi' : \"pocket wifi\", \n",
    "                'hanset' : \"handset\", \n",
    "                'traped' : \"trapped\", \n",
    "                'untrust' : \"untrustworthy\", \n",
    "                'donâ€™t' : \"doesn't\", \n",
    "                'f+ã—ã·==king' : \"fucking\", \n",
    "                'problam' : \"problem\", \n",
    "                'vodafoney' : \"vodafone\", \n",
    "                '6year' : \"6 year\", \n",
    "                'repaire' : \"repair\", \n",
    "                'vodaphones' : \"vodafone's\", \n",
    "                \"'vodaphone'\" : \"vodafone\", \n",
    "                'cancle' : \"cancel\", \n",
    "                'bulshit': \"bullshit\", \n",
    "                'vodaafone' : \"vodafone\", \n",
    "                'expoit' : \"exploit\", \n",
    "                'wouldnâ€™t' : \"wouldn't\", \n",
    "                'appaling' : \"appalling\", \n",
    "                'netowrk' : \"network\",  \n",
    "                'exellent' : \"excellent\", \n",
    "                'vodadfone' : \"vodafone\", \n",
    "                \"vodaphone's\" : \"vodafone's\", \n",
    "                't&amp' : \" \", \n",
    "                'okhay' : \"ok\", \n",
    "                'appauling' : \"appalling\", \n",
    "                'doesnâ€™t' : \"doesn't\", \n",
    "                'voda ' : \"vodafone \", \n",
    "                'techncial' : \"technical\", \n",
    "                'obudsman' : \"ombudsman\", \n",
    "                'redglobal' : \"red global\", \n",
    "                'vodafhone' : \"vodafone\", \n",
    "                'â€¦' : \" \", \n",
    "                'coustmer' : \"customer\", \n",
    "                'apauling' : \"appalling\", \n",
    "                \"telco's\" : \"telcos\", \n",
    "                'exspence' : \"expense\", \n",
    "                'terribl' : \"terrible\", \n",
    "                'hopless' : \"hopeless\", \n",
    "                'vodapone' : \"vodafone\", \n",
    "                'recind' : \"rescind\"}"
   ]
  },
  {
   "cell_type": "code",
   "execution_count": 131,
   "metadata": {},
   "outputs": [
    {
     "name": "stderr",
     "output_type": "stream",
     "text": [
      "C:\\Users\\matth\\anaconda3\\lib\\site-packages\\pandas\\core\\indexing.py:670: SettingWithCopyWarning: \n",
      "A value is trying to be set on a copy of a slice from a DataFrame\n",
      "\n",
      "See the caveats in the documentation: https://pandas.pydata.org/pandas-docs/stable/user_guide/indexing.html#returning-a-view-versus-a-copy\n",
      "  iloc._setitem_with_indexer(indexer, value)\n"
     ]
    }
   ],
   "source": [
    "#  Replace misspelled and unusual words using custom dictionary\n",
    "\n",
    "def replace_words(text, dictionary):\n",
    "    for (word, replacement) in dictionary.items():\n",
    "        text = text.replace(word, replacement)\n",
    "    #print(text)\n",
    "    return text\n",
    "\n",
    "for i in range(len(vodafone_reviews)):\n",
    "    vodafone_reviews['review'].loc[i] = replace_words(vodafone_reviews['review'].loc[i], spelling_dict)\n"
   ]
  },
  {
   "cell_type": "code",
   "execution_count": 132,
   "metadata": {},
   "outputs": [
    {
     "name": "stderr",
     "output_type": "stream",
     "text": [
      "[nltk_data] Downloading package vader_lexicon to\n",
      "[nltk_data]     C:\\Users\\matth\\AppData\\Roaming\\nltk_data...\n",
      "[nltk_data]   Package vader_lexicon is already up-to-date!\n"
     ]
    },
    {
     "name": "stdout",
     "output_type": "stream",
     "text": [
      "1903\n",
      "1903\n"
     ]
    }
   ],
   "source": [
    "# Sentiment score each review\n",
    "#############################################\n",
    "\n",
    "nltk.download('vader_lexicon')\n",
    "\n",
    "# Create a Sentiment Intensity Analyser object\n",
    "sid = SentimentIntensityAnalyzer()\n",
    "\n",
    "# Perform sentiment analysis for extracted sentences\n",
    "sentiment = vodafone_reviews['review'].apply(lambda r: sid.polarity_scores(r))\n",
    "sentiment = pd.DataFrame(list(sentiment))\n",
    "# Combine sentiment scores with sentence corpus\n",
    "\n",
    "# Check that the corpus of individuola sentences and\n",
    "# Sentiment scores are the same length\n",
    "print(len(vodafone_reviews))\n",
    "print(len(sentiment))\n",
    "\n",
    "# Concatenate the sentement scores with the sentences being analyised\n",
    "vodafone_reviews_expanded =  pd.concat([vodafone_reviews,sentiment['compound']], axis=1)\n",
    "vodafone_reviews_expanded\n",
    "\n",
    "# Set scores and sentiments to numeric\n",
    "\n",
    "vodafone_reviews_expanded[[\"score\", \"compound\"]] = vodafone_reviews_expanded[[\"score\", \"compound\"]].apply(pd.to_numeric)\n",
    "\n"
   ]
  },
  {
   "cell_type": "code",
   "execution_count": 133,
   "metadata": {
    "scrolled": true
   },
   "outputs": [
    {
     "data": {
      "text/plain": [
       "<AxesSubplot:xlabel='compound', ylabel='score'>"
      ]
     },
     "execution_count": 133,
     "metadata": {},
     "output_type": "execute_result"
    },
    {
     "data": {
      "image/png": "[encoded data removed]",
      "text/plain": [
       "<Figure size 432x288 with 1 Axes>"
      ]
     },
     "metadata": {
      "needs_background": "light"
     },
     "output_type": "display_data"
    }
   ],
   "source": [
    "vodafone_reviews_expanded.plot.scatter(x='compound', y='score', s=100)"
   ]
  },
  {
   "cell_type": "code",
   "execution_count": 170,
   "metadata": {},
   "outputs": [
    {
     "name": "stderr",
     "output_type": "stream",
     "text": [
      "[nltk_data] Downloading package punkt to\n",
      "[nltk_data]     C:\\Users\\matth\\AppData\\Roaming\\nltk_data...\n",
      "[nltk_data]   Package punkt is already up-to-date!\n"
     ]
    }
   ],
   "source": [
    "# Tokenise data to single sentences\n",
    "\n",
    "nltk.download('punkt')\n",
    "\n",
    "\n",
    "# Create a data frame to contain corpus of sentence\n",
    "processed_columns = pd.DataFrame(columns=['sentences' , 'noun_phrases','lemmatised_sentences', 'ngrams'])\n",
    "\n",
    "# Return sentences as a tuple containing the sentence and sentiment score\n",
    "\n",
    "def sentence_sentiment_tuples(sentences, promoter_score):\n",
    "    tuple_list = []\n",
    "    for sentence in sentences:\n",
    "        sentiment = sid.polarity_scores(sentence)[\"compound\"]\n",
    "        tuple_list = tuple_list + [(sentence, sentiment, promoter_score)]\n",
    "    return tuple_list\n",
    "\n",
    "\n",
    "# Iterate through expanded corpus, extracting sentenses and cleaning the text\n",
    "for i in range(len(vodafone_reviews_expanded)):\n",
    "    # Parse document into sentenses\n",
    "    sentence_list = nltk.tokenize.sent_tokenize(vodafone_reviews_expanded.review[i])\n",
    "    sentence_tuples = sentence_sentiment_tuples(sentence_list, vodafone_reviews_expanded.score[i])\n",
    "    processed_columns = processed_columns.append(pd.DataFrame({\"sentences\" : [sentence_tuples]}))\n",
    "    #print(sentence_list)\n",
    "\n"
   ]
  },
  {
   "cell_type": "code",
   "execution_count": 171,
   "metadata": {},
   "outputs": [
    {
     "name": "stdout",
     "output_type": "stream",
     "text": [
      "                                            sentences noun_phrases  \\\n",
      "0   [(my email and password were part of a company...          NaN   \n",
      "0   [(misguided salecouple of days ago, i was told...          NaN   \n",
      "0   [(worst network for data in australia., -0.624...          NaN   \n",
      "0   [(they charged me for over a year a plan with ...          NaN   \n",
      "0   [(my parents and i have been with vodafone for...          NaN   \n",
      "..                                                ...          ...   \n",
      "0   [(vodafone's extremely cheap, now i know why.,...          NaN   \n",
      "0   [(i reduced my plan to$22 from $35 thinking it...          NaN   \n",
      "0   [(please never ever make mistake of going with...          NaN   \n",
      "0   [(i had to get my address changed (same as on ...          NaN   \n",
      "0   [(i love this phone company been with them for...          NaN   \n",
      "\n",
      "   lemmatised_sentences ngrams  \n",
      "0                   NaN    NaN  \n",
      "0                   NaN    NaN  \n",
      "0                   NaN    NaN  \n",
      "0                   NaN    NaN  \n",
      "0                   NaN    NaN  \n",
      "..                  ...    ...  \n",
      "0                   NaN    NaN  \n",
      "0                   NaN    NaN  \n",
      "0                   NaN    NaN  \n",
      "0                   NaN    NaN  \n",
      "0                   NaN    NaN  \n",
      "\n",
      "[1903 rows x 4 columns]\n"
     ]
    }
   ],
   "source": [
    "print(processed_columns)"
   ]
  },
  {
   "cell_type": "code",
   "execution_count": 172,
   "metadata": {},
   "outputs": [
    {
     "name": "stderr",
     "output_type": "stream",
     "text": [
      "[nltk_data] Downloading package brown to\n",
      "[nltk_data]     C:\\Users\\matth\\AppData\\Roaming\\nltk_data...\n",
      "[nltk_data]   Package brown is already up-to-date!\n"
     ]
    },
    {
     "data": {
      "text/plain": [
       "0    [(company database leak, -0.34, 1), (vodafone ...\n",
       "0    [(+ trade-in value, 0.34, 1), (old phones, 0.3...\n",
       "0    [(mobile phone, -0.7227, 1), (i need data, -0....\n",
       "0    [(free phone, 0.3612, 1), (spare phone, 0.3612...\n",
       "0    [(decent coverage, 0.0, 1), (cheap prices, 0.0...\n",
       "                           ...                        \n",
       "0    [(vodafone 's, 0.0, 2), (terriblee network rel...\n",
       "0    [(n't use, -0.1396, 1), (mobile data, -0.1396,...\n",
       "0    [(whole business, -0.6249, 1), (location ... l...\n",
       "0    [(vodafone system, 0.0, 1), (pin code, 0.0, 1)...\n",
       "0    [(phone company, 0.9337, 5), (tumultuos time, ...\n",
       "Name: noun_phrases, Length: 1903, dtype: object"
      ]
     },
     "execution_count": 172,
     "metadata": {},
     "output_type": "execute_result"
    }
   ],
   "source": [
    "#### Extract Noun Phrases\n",
    "nltk.download('brown')\n",
    "\n",
    "#txt = \"\"\"Natural language processing (NLP) is a field of computer science, artificial intelligence, and computational linguistics concerned with the interactions between computers and human (natural) languages.\"\"\"\n",
    "#blob = TextBlob(txt)\n",
    "#print(blob.noun_phrases)\n",
    "\n",
    "def extract_noun_phrase_list(sentence, sentiment, promoter_score):\n",
    "    tuple_list = []\n",
    "    blob = TextBlob(sentence)\n",
    "    phrases = blob.noun_phrases\n",
    "    for phrase in phrases:\n",
    "        if len(phrase)>0:\n",
    "            tuple_list = tuple_list + [(phrase, sentiment, promoter_score)]\n",
    "            #print(phrase + \"   \" + str(len(phrase)))\n",
    "    \n",
    "    return tuple_list\n",
    "        \n",
    "\n",
    "for i in range(len(processed_columns)):\n",
    "    np_list = []\n",
    "    for sentence in processed_columns.sentences.iloc[i]:\n",
    "        noun_phrases = extract_noun_phrase_list(sentence[0], sentence[1], sentence[2])\n",
    "        if len(noun_phrases)>0:\n",
    "            np_list = np_list + noun_phrases\n",
    "    processed_columns.noun_phrases.iloc[i] = np_list\n",
    "\n",
    "processed_columns.noun_phrases\n",
    "\n"
   ]
  },
  {
   "cell_type": "code",
   "execution_count": 173,
   "metadata": {},
   "outputs": [
    {
     "name": "stderr",
     "output_type": "stream",
     "text": [
      "[nltk_data] Downloading package averaged_perceptron_tagger to\n",
      "[nltk_data]     C:\\Users\\matth\\AppData\\Roaming\\nltk_data...\n",
      "[nltk_data]   Package averaged_perceptron_tagger is already up-to-\n",
      "[nltk_data]       date!\n"
     ]
    },
    {
     "data": {
      "text/plain": [
       "0    [(my email and password part company database ...\n",
       "0    [(misguided salecouple day ago tell that will ...\n",
       "0    [(bad network for data australia , -0.6249, 1)...\n",
       "0    [(they charge for over year plan with insuranc...\n",
       "0    [(my parent and have with vodafone for about y...\n",
       "                           ...                        \n",
       "0    [(vodafone s extremely cheap now know why , 0....\n",
       "0    [(i reduce plan from think would cheap because...\n",
       "0    [(please never ever make mistake with vodafone...\n",
       "0    [(i have get address change same drive license...\n",
       "0    [(i love this phone company with them for leas...\n",
       "Name: lemmatised_sentences, Length: 1903, dtype: object"
      ]
     },
     "execution_count": 173,
     "metadata": {},
     "output_type": "execute_result"
    }
   ],
   "source": [
    "###### Lemmatise Sentenses\n",
    "\n",
    "\n",
    "import nltk\n",
    "from nltk.stem import WordNetLemmatizer\n",
    "nltk.download('averaged_perceptron_tagger')\n",
    "from nltk.corpus import wordnet\n",
    "import numpy as np\n",
    "import spacy\n",
    "nlp = spacy.load('en_core_web_sm')\n",
    "\n",
    "\n",
    "# Return a lemmatized version of a string\n",
    "def lemmatize_string(text):\n",
    "    # Return an empty string if a None object is received\n",
    "    if text is None:\n",
    "        return \"\"\n",
    "    \n",
    "    # Return empty string if a strng is not received\n",
    "    if not  isinstance(text, str):\n",
    "        return \"\"\n",
    "    \n",
    "    lemmatizer = WordNetLemmatizer()\n",
    "\n",
    "    # tokenise the sentence and determine part of speech tagging\n",
    "    # for each word\n",
    "    pos_tagged_text = nltk.pos_tag(nltk.word_tokenize(text))  \n",
    "    \n",
    "    # Convert the POS tagging from nltk.pos_tag\n",
    "    # to the wordnet POS identifier recognised\n",
    "    # by WordNetLemmatizer()\n",
    "    words_tagged =[]\n",
    "    for word in pos_tagged_text:\n",
    "        if word[1].startswith('J'):\n",
    "            word=(word[0], wordnet.ADJ)\n",
    "        elif word[1].startswith('V'):\n",
    "            word=(word[0], wordnet.VERB)\n",
    "        elif word[1].startswith('N'):\n",
    "            word=(word[0], wordnet.NOUN)\n",
    "        elif word[1].startswith('R'):\n",
    "            word=(word[0], wordnet.ADV)\n",
    "        else:\n",
    "            word=(word[0], None)\n",
    "        words_tagged.append(word)\n",
    "    \n",
    "    # Lemmatize each word according to it's determined word class\n",
    "    lemmatized = []\n",
    "    for word, tag in words_tagged:\n",
    "        if tag is None:\n",
    "            lemmatized.append(word)\n",
    "        else:        \n",
    "            lemmatized.append(lemmatizer.lemmatize(word, tag))\n",
    "    \n",
    "    # reconstruct and returne lemmatized sentence\n",
    "    seperator = ' '\n",
    "    return seperator.join(lemmatized)\n",
    "\n",
    "# remove everything that isn't text\n",
    "# and remove 1 and 2 letter words\n",
    "def scrub_text(text):\n",
    "    # Remove numbers\n",
    "    text =  re.sub('(?<=\\s)\\d+(?=\\s)', '', text)\n",
    "    # remove single and double character terms\n",
    "    text = re.sub(\"(?<=\\s)\\w{1,2}(?=\\s)\", \"\", text)\n",
    "    # remove non word characers except for spaces\n",
    "    text =  re.sub('[^\\w\\s]',' ', text)\n",
    "    # condence multple spaces\n",
    "    text =  re.sub('\\s+',' ', text)\n",
    "    return(text)\n",
    "\n",
    "\n",
    "for i in range(len(processed_columns)):\n",
    "    cleaned_sentence_list = []\n",
    "    for sentence in processed_columns.sentences.iloc[i]:\n",
    "        lemmatised_sentence = lemmatize_string(sentence[0])\n",
    "        scrubbed_lemmatised_sentence =scrub_text(lemmatised_sentence)\n",
    "        if len(scrubbed_lemmatised_sentence)>0:\n",
    "            cleaned_sentence_list = cleaned_sentence_list + [(scrubbed_lemmatised_sentence, sentence[1] , sentence[2])]\n",
    "    processed_columns.lemmatised_sentences.iloc[i] = cleaned_sentence_list\n",
    "    \n",
    "processed_columns.lemmatised_sentences"
   ]
  },
  {
   "cell_type": "code",
   "execution_count": 182,
   "metadata": {},
   "outputs": [],
   "source": [
    "##### Create lists of N-Grams\n",
    "\n",
    "from nltk import ngrams\n",
    "\n",
    "def extract_ngram_list(sentence, sentiment, promoter_score, max_ngrams):\n",
    "    n_gram_list = []\n",
    "    for i in range(2,max_ngrams+1):\n",
    "        n_grams = ngrams(sentence.split(), i)\n",
    "        for gram in n_grams:\n",
    "            n_gram_list = n_gram_list + [(' '.join(gram), sentiment , promoter_score)]\n",
    "    return n_gram_list\n",
    "\n",
    "for i in range(len(processed_columns)):\n",
    "    n_gram_list = []\n",
    "    for sentence in processed_columns.lemmatised_sentences.iloc[i]:\n",
    "        n_grams = extract_ngram_list(sentence[0], sentence[1], sentence[2], 4)\n",
    "        #print(n_grams)\n",
    "        if len(n_grams)>0:\n",
    "            n_gram_list = n_gram_list + n_grams\n",
    "            \n",
    "    processed_columns.ngrams.iloc[i] = n_gram_list\n",
    "\n"
   ]
  },
  {
   "cell_type": "code",
   "execution_count": 183,
   "metadata": {},
   "outputs": [
    {
     "data": {
      "text/html": [
       "<div>\n",
       "<style scoped>\n",
       "    .dataframe tbody tr th:only-of-type {\n",
       "        vertical-align: middle;\n",
       "    }\n",
       "\n",
       "    .dataframe tbody tr th {\n",
       "        vertical-align: top;\n",
       "    }\n",
       "\n",
       "    .dataframe thead th {\n",
       "        text-align: right;\n",
       "    }\n",
       "</style>\n",
       "<table border=\"1\" class=\"dataframe\">\n",
       "  <thead>\n",
       "    <tr style=\"text-align: right;\">\n",
       "      <th></th>\n",
       "      <th>sentences</th>\n",
       "      <th>noun_phrases</th>\n",
       "      <th>lemmatised_sentences</th>\n",
       "      <th>ngrams</th>\n",
       "    </tr>\n",
       "  </thead>\n",
       "  <tbody>\n",
       "    <tr>\n",
       "      <th>0</th>\n",
       "      <td>[(my email and password were part of a company...</td>\n",
       "      <td>[(company database leak, -0.34, 1), (vodafone ...</td>\n",
       "      <td>[(my email and password part company database ...</td>\n",
       "      <td>[(my email, -0.34, 1), (email and, -0.34, 1), ...</td>\n",
       "    </tr>\n",
       "    <tr>\n",
       "      <th>0</th>\n",
       "      <td>[(misguided salecouple of days ago, i was told...</td>\n",
       "      <td>[(+ trade-in value, 0.34, 1), (old phones, 0.3...</td>\n",
       "      <td>[(misguided salecouple day ago tell that will ...</td>\n",
       "      <td>[(misguided salecouple, 0.34, 1), (salecouple ...</td>\n",
       "    </tr>\n",
       "    <tr>\n",
       "      <th>0</th>\n",
       "      <td>[(worst network for data in australia., -0.624...</td>\n",
       "      <td>[(mobile phone, -0.7227, 1), (i need data, -0....</td>\n",
       "      <td>[(bad network for data australia , -0.6249, 1)...</td>\n",
       "      <td>[(bad network, -0.6249, 1), (network for, -0.6...</td>\n",
       "    </tr>\n",
       "    <tr>\n",
       "      <th>0</th>\n",
       "      <td>[(they charged me for over a year a plan with ...</td>\n",
       "      <td>[(free phone, 0.3612, 1), (spare phone, 0.3612...</td>\n",
       "      <td>[(they charge for over year plan with insuranc...</td>\n",
       "      <td>[(they charge, 0.3612, 1), (charge for, 0.3612...</td>\n",
       "    </tr>\n",
       "    <tr>\n",
       "      <th>0</th>\n",
       "      <td>[(my parents and i have been with vodafone for...</td>\n",
       "      <td>[(decent coverage, 0.0, 1), (cheap prices, 0.0...</td>\n",
       "      <td>[(my parent and have with vodafone for about y...</td>\n",
       "      <td>[(my parent, 0.0, 1), (parent and, 0.0, 1), (a...</td>\n",
       "    </tr>\n",
       "  </tbody>\n",
       "</table>\n",
       "</div>"
      ],
      "text/plain": [
       "                                           sentences  \\\n",
       "0  [(my email and password were part of a company...   \n",
       "0  [(misguided salecouple of days ago, i was told...   \n",
       "0  [(worst network for data in australia., -0.624...   \n",
       "0  [(they charged me for over a year a plan with ...   \n",
       "0  [(my parents and i have been with vodafone for...   \n",
       "\n",
       "                                        noun_phrases  \\\n",
       "0  [(company database leak, -0.34, 1), (vodafone ...   \n",
       "0  [(+ trade-in value, 0.34, 1), (old phones, 0.3...   \n",
       "0  [(mobile phone, -0.7227, 1), (i need data, -0....   \n",
       "0  [(free phone, 0.3612, 1), (spare phone, 0.3612...   \n",
       "0  [(decent coverage, 0.0, 1), (cheap prices, 0.0...   \n",
       "\n",
       "                                lemmatised_sentences  \\\n",
       "0  [(my email and password part company database ...   \n",
       "0  [(misguided salecouple day ago tell that will ...   \n",
       "0  [(bad network for data australia , -0.6249, 1)...   \n",
       "0  [(they charge for over year plan with insuranc...   \n",
       "0  [(my parent and have with vodafone for about y...   \n",
       "\n",
       "                                              ngrams  \n",
       "0  [(my email, -0.34, 1), (email and, -0.34, 1), ...  \n",
       "0  [(misguided salecouple, 0.34, 1), (salecouple ...  \n",
       "0  [(bad network, -0.6249, 1), (network for, -0.6...  \n",
       "0  [(they charge, 0.3612, 1), (charge for, 0.3612...  \n",
       "0  [(my parent, 0.0, 1), (parent and, 0.0, 1), (a...  "
      ]
     },
     "execution_count": 183,
     "metadata": {},
     "output_type": "execute_result"
    }
   ],
   "source": [
    "processed_columns.head(5)"
   ]
  },
  {
   "cell_type": "code",
   "execution_count": null,
   "metadata": {},
   "outputs": [],
   "source": [
    "##########################################\n",
    "##  Some EDA\n",
    "\n",
    "vodafone_reviews['score'] = pd.to_numeric(vodafone_reviews['score'])\n",
    "\n",
    "vodafone_reviews['score'].hist()"
   ]
  },
  {
   "cell_type": "code",
   "execution_count": null,
   "metadata": {},
   "outputs": [],
   "source": []
  },
  {
   "cell_type": "code",
   "execution_count": null,
   "metadata": {},
   "outputs": [],
   "source": [
    "def strip_punct(word):\n",
    "    word =  re.sub(\"[,\\.;:\\(\\)\\{\\}\\[\\]!?\\\"\\s\\n]+\", \" \", word)\n",
    "    word =  re.sub(\"\\s+\", \" \", word)\n",
    "    return word\n",
    "\n",
    "def list_of_words(df, column):\n",
    "    word_frame = pd.DataFrame(columns = [\"words\"])\n",
    "    for i in range(len(df)):\n",
    "        words = strip_punct(df[column].iloc[i])\n",
    "        words = words.split(\" \")\n",
    "        word_frame = word_frame.append(pd.DataFrame(words,columns = [\"words\"]))\n",
    "        \n",
    "    return word_frame\n",
    "\n",
    "\n",
    "\n",
    "\n",
    "word_frame = list_of_words(vodafone_reviews, \"title\")\n",
    "\n",
    "word_frame = word_frame[word_frame['words']!=\"\"]\n",
    "\n",
    "word_frame[\"words\"].value_counts().head(10).plot(kind='bar',figsize=(5,3))\n"
   ]
  },
  {
   "cell_type": "code",
   "execution_count": null,
   "metadata": {},
   "outputs": [],
   "source": [
    "word_frame[\"words\"].value_counts().tail(50).plot(kind='bar',figsize=(5,3))"
   ]
  },
  {
   "cell_type": "code",
   "execution_count": null,
   "metadata": {},
   "outputs": [],
   "source": []
  }
 ],
 "metadata": {
  "kernelspec": {
   "display_name": "Python 3",
   "language": "python",
   "name": "python3"
  },
  "language_info": {
   "codemirror_mode": {
    "name": "ipython",
    "version": 3
   },
   "file_extension": ".py",
   "mimetype": "text/x-python",
   "name": "python",
   "nbconvert_exporter": "python",
   "pygments_lexer": "ipython3",
   "version": "3.8.5"
  }
 },
 "nbformat": 4,
 "nbformat_minor": 4
}
